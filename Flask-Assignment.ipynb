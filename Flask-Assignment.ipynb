{
 "cells": [
  {
   "cell_type": "markdown",
   "id": "5a6db3a0-9ca5-4996-80b5-5d8ab8ca2e0a",
   "metadata": {},
   "source": [
    "Q1. What is Flask Framework? What are the advantages of Flask Framework?\n",
    "\n",
    "Flask is a lightweight and flexible Python web framework that provides tools, libraries, and technologies to help build web applications quickly and efficiently. It is classified as a micro-framework because it does not require particular tools or libraries. Flask is designed to be simple and easy to use, yet powerful enough to create complex web applications.\n",
    "\n",
    "Advantages of Flask Framework:\n",
    "\n",
    "1. Simplicity: Flask is known for its simplicity and minimalism. It has a simple and easy-to-understand API, making it accessible for beginners to start building web applications without much overhead.\n",
    "\n",
    "2. Flexibility: Flask is highly flexible and allows developers to choose the components they need for their specific project requirements. It does not impose any particular project structure or directory layout, giving developers the freedom to organize their code as they see fit.\n",
    "\n",
    "3. Modularity: Flask follows a modular design approach, allowing developers to add or remove components as needed. It supports extensions that provide additional functionality, such as user authentication, database integration, and more, which can be easily integrated into Flask applications.\n",
    "\n",
    "4. Jinja2 Templating: Flask uses the Jinja2 templating engine, which provides powerful and flexible template inheritance, macros, filters, and other features for building dynamic HTML pages. Jinja2 templates make it easy to generate dynamic content and separate presentation logic from application logic.\n",
    "\n",
    "5. Werkzeug WSGI Toolkit: Flask is built on top of the Werkzeug WSGI (Web Server Gateway Interface) toolkit, which provides a robust set of utilities for building web applications in Python. Werkzeug includes features such as routing, request and response handling, HTTP utilities, and more, which Flask leverages for handling web requests and responses.\n",
    "\n",
    "6. Extensive Documentation: Flask has comprehensive documentation that covers all aspects of the framework, including installation, getting started guides, API reference, and advanced topics. The documentation is well-written, easy to understand, and includes examples and tutorials to help developers learn Flask effectively.\n",
    "\n",
    "7. Active Community: Flask has a vibrant and active community of developers and contributors who provide support, share knowledge, and contribute to the improvement of the framework. There are many third-party extensions, plugins, and libraries available for Flask, which can help developers enhance their applications and streamline development.\n"
   ]
  },
  {
   "cell_type": "markdown",
   "id": "4ddac327-f917-4f38-a2fc-ecc652a6793f",
   "metadata": {},
   "source": [
    "Q2. Create a simple Flask application to display ‘Hello World!!’. Attach the screenshot of the output in\n",
    "Jupyter Notebook.\n",
    "\n"
   ]
  },
  {
   "cell_type": "code",
   "execution_count": 6,
   "id": "83d4e1c5-f29d-47b1-b778-7ae4391aed93",
   "metadata": {},
   "outputs": [
    {
     "name": "stdout",
     "output_type": "stream",
     "text": [
      "Requirement already satisfied: Flask in /opt/conda/lib/python3.10/site-packages (3.0.2)\n",
      "Requirement already satisfied: blinker>=1.6.2 in /opt/conda/lib/python3.10/site-packages (from Flask) (1.7.0)\n",
      "Requirement already satisfied: itsdangerous>=2.1.2 in /opt/conda/lib/python3.10/site-packages (from Flask) (2.1.2)\n",
      "Requirement already satisfied: Jinja2>=3.1.2 in /opt/conda/lib/python3.10/site-packages (from Flask) (3.1.2)\n",
      "Requirement already satisfied: click>=8.1.3 in /opt/conda/lib/python3.10/site-packages (from Flask) (8.1.3)\n",
      "Requirement already satisfied: Werkzeug>=3.0.0 in /opt/conda/lib/python3.10/site-packages (from Flask) (3.0.1)\n",
      "Requirement already satisfied: MarkupSafe>=2.0 in /opt/conda/lib/python3.10/site-packages (from Jinja2>=3.1.2->Flask) (2.1.1)\n",
      "Note: you may need to restart the kernel to use updated packages.\n"
     ]
    }
   ],
   "source": [
    "pip install Flask"
   ]
  },
  {
   "cell_type": "code",
   "execution_count": null,
   "id": "70ab9653-0012-4bd8-9132-4ad0dec83d5b",
   "metadata": {},
   "outputs": [
    {
     "name": "stdout",
     "output_type": "stream",
     "text": [
      " * Serving Flask app '__main__'\n",
      " * Debug mode: off\n"
     ]
    },
    {
     "name": "stderr",
     "output_type": "stream",
     "text": [
      "WARNING: This is a development server. Do not use it in a production deployment. Use a production WSGI server instead.\n",
      " * Running on http://127.0.0.1:5000\n",
      "Press CTRL+C to quit\n"
     ]
    }
   ],
   "source": [
    "from flask import Flask\n",
    "\n",
    "app = Flask(__name__)\n",
    "\n",
    "@app.route('/')\n",
    "def hello_world():\n",
    "    return 'Hello World!!'\n",
    "\n",
    "if __name__ == '__main__':\n",
    "    app.run()"
   ]
  },
  {
   "cell_type": "code",
   "execution_count": null,
   "id": "11081250-aebb-4350-87de-901d3334a442",
   "metadata": {},
   "outputs": [],
   "source": [
    "python app.py"
   ]
  },
  {
   "cell_type": "markdown",
   "id": "181c9bcc-21bd-451f-b1a1-c9d43ea39f0a",
   "metadata": {},
   "source": [
    "Q3. What is App routing in Flask? Why do we use app routes?"
   ]
  },
  {
   "cell_type": "markdown",
   "id": "a1fd1981-013b-4fc1-b97e-1ffc14b05682",
   "metadata": {},
   "source": [
    "In Flask, routing refers to the process of mapping URLs (Uniform Resource Locators) to Python functions that handle requests made to those URLs. This mapping is defined using the @app.route() decorator, where app is an instance of the Flask application.\n",
    "\n",
    "App routing in Flask allows you to define different URL patterns and associate them with specific view functions, which are responsible for generating responses to client requests. This mechanism enables you to create a logical structure for your web application, defining how different URLs should be handled and what content or actions should be returned or executed in response to each URL.\n",
    "\n",
    "We use app routes in Flask for several reasons:\n",
    "\n",
    "1. URL Mapping: App routes allow you to define the URL patterns for different parts of your web application. By specifying routes using the @app.route() decorator, you can map specific URLs to corresponding Python functions, making it easy to organize and structure your application's logic.\n",
    "\n",
    "2. Request Handling: App routes determine how incoming HTTP requests are processed and responded to by your Flask application. Each route corresponds to a specific endpoint in your application, and the associated view function handles the request made to that endpoint, generating an appropriate response.\n",
    "\n",
    "3. Modularity and Separation of Concerns: App routes help in organizing your application into modular components, with each route handling a specific set of functionalities or resources. This promotes a clean and maintainable code structure by separating different parts of the application's logic based on their functionalities.\n",
    "\n",
    "4. Dynamic Content Generation: App routes allow you to dynamically generate content based on the URL parameters or other request attributes. For example, you can define routes with URL parameters that extract data from the URL and use it to generate customized responses or perform specific actions.\n",
    "\n",
    "5. RESTful APIs: In the context of building RESTful APIs (Representational State Transfer), app routes play a crucial role in defining the API endpoints and specifying the actions that can be performed on each resource. This allows client applications to interact with the server-side application through well-defined routes and HTTP methods (e.g., GET, POST, PUT, DELETE).\n",
    "\n",
    "\n"
   ]
  },
  {
   "cell_type": "markdown",
   "id": "fbe00832-f70a-4a82-a042-443c9de984d4",
   "metadata": {},
   "source": [
    "Q5. What function is used in Flask for URL Building? Write a Python code to demonstrate the working of the\n",
    "url_for() function.\n",
    "\n",
    "In Flask, the url_for() function is used for URL building. It generates a URL for the specified endpoint (view function) by taking into account the endpoint's name and any arguments it may require. This function is useful because it allows you to build URLs dynamically based on the view functions defined in your application, without hardcoding URLs in your templates or code.\n",
    "\n",
    "Here's an example of how to use the url_for() function in Flask:\n"
   ]
  },
  {
   "cell_type": "code",
   "execution_count": 7,
   "id": "f889a326-3663-48b9-a991-813b8279125f",
   "metadata": {},
   "outputs": [],
   "source": [
    "from flask import Flask, url_for\n",
    "\n",
    "app = Flask(__name__)"
   ]
  },
  {
   "cell_type": "code",
   "execution_count": 8,
   "id": "e6f8b380-6c0d-40d8-b138-48ea7eca4de9",
   "metadata": {},
   "outputs": [],
   "source": [
    "def hello():\n",
    "    return 'Hello, World!'\n"
   ]
  },
  {
   "cell_type": "code",
   "execution_count": 9,
   "id": "a697c5a9-dbd3-45a1-9e22-3f1c9422d634",
   "metadata": {},
   "outputs": [
    {
     "ename": "BuildError",
     "evalue": "Could not build url for endpoint 'hello'. Did you mean 'static' instead?",
     "output_type": "error",
     "traceback": [
      "\u001b[0;31m---------------------------------------------------------------------------\u001b[0m",
      "\u001b[0;31mBuildError\u001b[0m                                Traceback (most recent call last)",
      "Cell \u001b[0;32mIn[9], line 7\u001b[0m\n\u001b[1;32m      4\u001b[0m \u001b[38;5;28;01mif\u001b[39;00m \u001b[38;5;18m__name__\u001b[39m \u001b[38;5;241m==\u001b[39m \u001b[38;5;124m'\u001b[39m\u001b[38;5;124m__main__\u001b[39m\u001b[38;5;124m'\u001b[39m:\n\u001b[1;32m      5\u001b[0m     \u001b[38;5;28;01mwith\u001b[39;00m app\u001b[38;5;241m.\u001b[39mtest_request_context():\n\u001b[1;32m      6\u001b[0m         \u001b[38;5;66;03m# Generate URLs using url_for() function\u001b[39;00m\n\u001b[0;32m----> 7\u001b[0m         \u001b[38;5;28mprint\u001b[39m(\u001b[43murl_for\u001b[49m\u001b[43m(\u001b[49m\u001b[38;5;124;43m'\u001b[39;49m\u001b[38;5;124;43mhello\u001b[39;49m\u001b[38;5;124;43m'\u001b[39;49m\u001b[43m)\u001b[49m)  \u001b[38;5;66;03m# Output: /hello\u001b[39;00m\n\u001b[1;32m      8\u001b[0m         \u001b[38;5;28mprint\u001b[39m(url_for(\u001b[38;5;124m'\u001b[39m\u001b[38;5;124muser_profile\u001b[39m\u001b[38;5;124m'\u001b[39m, username\u001b[38;5;241m=\u001b[39m\u001b[38;5;124m'\u001b[39m\u001b[38;5;124mjohn\u001b[39m\u001b[38;5;124m'\u001b[39m)) \n",
      "File \u001b[0;32m/opt/conda/lib/python3.10/site-packages/flask/helpers.py:220\u001b[0m, in \u001b[0;36murl_for\u001b[0;34m(endpoint, _anchor, _method, _scheme, _external, **values)\u001b[0m\n\u001b[1;32m    176\u001b[0m \u001b[38;5;28;01mdef\u001b[39;00m \u001b[38;5;21murl_for\u001b[39m(\n\u001b[1;32m    177\u001b[0m     endpoint: \u001b[38;5;28mstr\u001b[39m,\n\u001b[1;32m    178\u001b[0m     \u001b[38;5;241m*\u001b[39m,\n\u001b[0;32m   (...)\u001b[0m\n\u001b[1;32m    183\u001b[0m     \u001b[38;5;241m*\u001b[39m\u001b[38;5;241m*\u001b[39mvalues: t\u001b[38;5;241m.\u001b[39mAny,\n\u001b[1;32m    184\u001b[0m ) \u001b[38;5;241m-\u001b[39m\u001b[38;5;241m>\u001b[39m \u001b[38;5;28mstr\u001b[39m:\n\u001b[1;32m    185\u001b[0m     \u001b[38;5;124;03m\"\"\"Generate a URL to the given endpoint with the given values.\u001b[39;00m\n\u001b[1;32m    186\u001b[0m \n\u001b[1;32m    187\u001b[0m \u001b[38;5;124;03m    This requires an active request or application context, and calls\u001b[39;00m\n\u001b[0;32m   (...)\u001b[0m\n\u001b[1;32m    218\u001b[0m \u001b[38;5;124;03m       Calls ``app.handle_url_build_error`` on build errors.\u001b[39;00m\n\u001b[1;32m    219\u001b[0m \u001b[38;5;124;03m    \"\"\"\u001b[39;00m\n\u001b[0;32m--> 220\u001b[0m     \u001b[38;5;28;01mreturn\u001b[39;00m \u001b[43mcurrent_app\u001b[49m\u001b[38;5;241;43m.\u001b[39;49m\u001b[43murl_for\u001b[49m\u001b[43m(\u001b[49m\n\u001b[1;32m    221\u001b[0m \u001b[43m        \u001b[49m\u001b[43mendpoint\u001b[49m\u001b[43m,\u001b[49m\n\u001b[1;32m    222\u001b[0m \u001b[43m        \u001b[49m\u001b[43m_anchor\u001b[49m\u001b[38;5;241;43m=\u001b[39;49m\u001b[43m_anchor\u001b[49m\u001b[43m,\u001b[49m\n\u001b[1;32m    223\u001b[0m \u001b[43m        \u001b[49m\u001b[43m_method\u001b[49m\u001b[38;5;241;43m=\u001b[39;49m\u001b[43m_method\u001b[49m\u001b[43m,\u001b[49m\n\u001b[1;32m    224\u001b[0m \u001b[43m        \u001b[49m\u001b[43m_scheme\u001b[49m\u001b[38;5;241;43m=\u001b[39;49m\u001b[43m_scheme\u001b[49m\u001b[43m,\u001b[49m\n\u001b[1;32m    225\u001b[0m \u001b[43m        \u001b[49m\u001b[43m_external\u001b[49m\u001b[38;5;241;43m=\u001b[39;49m\u001b[43m_external\u001b[49m\u001b[43m,\u001b[49m\n\u001b[1;32m    226\u001b[0m \u001b[43m        \u001b[49m\u001b[38;5;241;43m*\u001b[39;49m\u001b[38;5;241;43m*\u001b[39;49m\u001b[43mvalues\u001b[49m\u001b[43m,\u001b[49m\n\u001b[1;32m    227\u001b[0m \u001b[43m    \u001b[49m\u001b[43m)\u001b[49m\n",
      "File \u001b[0;32m/opt/conda/lib/python3.10/site-packages/flask/app.py:1074\u001b[0m, in \u001b[0;36mFlask.url_for\u001b[0;34m(self, endpoint, _anchor, _method, _scheme, _external, **values)\u001b[0m\n\u001b[1;32m   1070\u001b[0m \u001b[38;5;28;01mexcept\u001b[39;00m BuildError \u001b[38;5;28;01mas\u001b[39;00m error:\n\u001b[1;32m   1071\u001b[0m     values\u001b[38;5;241m.\u001b[39mupdate(\n\u001b[1;32m   1072\u001b[0m         _anchor\u001b[38;5;241m=\u001b[39m_anchor, _method\u001b[38;5;241m=\u001b[39m_method, _scheme\u001b[38;5;241m=\u001b[39m_scheme, _external\u001b[38;5;241m=\u001b[39m_external\n\u001b[1;32m   1073\u001b[0m     )\n\u001b[0;32m-> 1074\u001b[0m     \u001b[38;5;28;01mreturn\u001b[39;00m \u001b[38;5;28;43mself\u001b[39;49m\u001b[38;5;241;43m.\u001b[39;49m\u001b[43mhandle_url_build_error\u001b[49m\u001b[43m(\u001b[49m\u001b[43merror\u001b[49m\u001b[43m,\u001b[49m\u001b[43m \u001b[49m\u001b[43mendpoint\u001b[49m\u001b[43m,\u001b[49m\u001b[43m \u001b[49m\u001b[43mvalues\u001b[49m\u001b[43m)\u001b[49m\n\u001b[1;32m   1076\u001b[0m \u001b[38;5;28;01mif\u001b[39;00m _anchor \u001b[38;5;129;01mis\u001b[39;00m \u001b[38;5;129;01mnot\u001b[39;00m \u001b[38;5;28;01mNone\u001b[39;00m:\n\u001b[1;32m   1077\u001b[0m     _anchor \u001b[38;5;241m=\u001b[39m _url_quote(_anchor, safe\u001b[38;5;241m=\u001b[39m\u001b[38;5;124m\"\u001b[39m\u001b[38;5;124m%\u001b[39m\u001b[38;5;124m!#$&\u001b[39m\u001b[38;5;124m'\u001b[39m\u001b[38;5;124m()*+,/:;=?@\u001b[39m\u001b[38;5;124m\"\u001b[39m)\n",
      "File \u001b[0;32m/opt/conda/lib/python3.10/site-packages/flask/app.py:1063\u001b[0m, in \u001b[0;36mFlask.url_for\u001b[0;34m(self, endpoint, _anchor, _method, _scheme, _external, **values)\u001b[0m\n\u001b[1;32m   1060\u001b[0m \u001b[38;5;28mself\u001b[39m\u001b[38;5;241m.\u001b[39minject_url_defaults(endpoint, values)\n\u001b[1;32m   1062\u001b[0m \u001b[38;5;28;01mtry\u001b[39;00m:\n\u001b[0;32m-> 1063\u001b[0m     rv \u001b[38;5;241m=\u001b[39m \u001b[43murl_adapter\u001b[49m\u001b[38;5;241;43m.\u001b[39;49m\u001b[43mbuild\u001b[49m\u001b[43m(\u001b[49m\u001b[43m  \u001b[49m\u001b[38;5;66;43;03m# type: ignore[union-attr]\u001b[39;49;00m\n\u001b[1;32m   1064\u001b[0m \u001b[43m        \u001b[49m\u001b[43mendpoint\u001b[49m\u001b[43m,\u001b[49m\n\u001b[1;32m   1065\u001b[0m \u001b[43m        \u001b[49m\u001b[43mvalues\u001b[49m\u001b[43m,\u001b[49m\n\u001b[1;32m   1066\u001b[0m \u001b[43m        \u001b[49m\u001b[43mmethod\u001b[49m\u001b[38;5;241;43m=\u001b[39;49m\u001b[43m_method\u001b[49m\u001b[43m,\u001b[49m\n\u001b[1;32m   1067\u001b[0m \u001b[43m        \u001b[49m\u001b[43murl_scheme\u001b[49m\u001b[38;5;241;43m=\u001b[39;49m\u001b[43m_scheme\u001b[49m\u001b[43m,\u001b[49m\n\u001b[1;32m   1068\u001b[0m \u001b[43m        \u001b[49m\u001b[43mforce_external\u001b[49m\u001b[38;5;241;43m=\u001b[39;49m\u001b[43m_external\u001b[49m\u001b[43m,\u001b[49m\n\u001b[1;32m   1069\u001b[0m \u001b[43m    \u001b[49m\u001b[43m)\u001b[49m\n\u001b[1;32m   1070\u001b[0m \u001b[38;5;28;01mexcept\u001b[39;00m BuildError \u001b[38;5;28;01mas\u001b[39;00m error:\n\u001b[1;32m   1071\u001b[0m     values\u001b[38;5;241m.\u001b[39mupdate(\n\u001b[1;32m   1072\u001b[0m         _anchor\u001b[38;5;241m=\u001b[39m_anchor, _method\u001b[38;5;241m=\u001b[39m_method, _scheme\u001b[38;5;241m=\u001b[39m_scheme, _external\u001b[38;5;241m=\u001b[39m_external\n\u001b[1;32m   1073\u001b[0m     )\n",
      "File \u001b[0;32m/opt/conda/lib/python3.10/site-packages/werkzeug/routing/map.py:919\u001b[0m, in \u001b[0;36mMapAdapter.build\u001b[0;34m(self, endpoint, values, method, force_external, append_unknown, url_scheme)\u001b[0m\n\u001b[1;32m    917\u001b[0m rv \u001b[38;5;241m=\u001b[39m \u001b[38;5;28mself\u001b[39m\u001b[38;5;241m.\u001b[39m_partial_build(endpoint, values, method, append_unknown)\n\u001b[1;32m    918\u001b[0m \u001b[38;5;28;01mif\u001b[39;00m rv \u001b[38;5;129;01mis\u001b[39;00m \u001b[38;5;28;01mNone\u001b[39;00m:\n\u001b[0;32m--> 919\u001b[0m     \u001b[38;5;28;01mraise\u001b[39;00m BuildError(endpoint, values, method, \u001b[38;5;28mself\u001b[39m)\n\u001b[1;32m    921\u001b[0m domain_part, path, websocket \u001b[38;5;241m=\u001b[39m rv\n\u001b[1;32m    922\u001b[0m host \u001b[38;5;241m=\u001b[39m \u001b[38;5;28mself\u001b[39m\u001b[38;5;241m.\u001b[39mget_host(domain_part)\n",
      "\u001b[0;31mBuildError\u001b[0m: Could not build url for endpoint 'hello'. Did you mean 'static' instead?"
     ]
    }
   ],
   "source": [
    "if __name__ == '__main__':\n",
    "    with app.test_request_context():\n",
    "        try:\n",
    "            # Generate URLs using url_for() function\n",
    "            print(url_for('hello'))  # Output: /hello\n",
    "            print(url_for('user_profile', username='john'))  # Output: /user/john\n",
    "        except Exception as e:\n",
    "            print(\"Error occurred:\", e)"
   ]
  },
  {
   "cell_type": "code",
   "execution_count": null,
   "id": "990999ef-101e-45f9-9e08-fcacd17c0168",
   "metadata": {},
   "outputs": [],
   "source": []
  },
  {
   "cell_type": "code",
   "execution_count": null,
   "id": "59387415-2f3f-4f7d-a6b2-3f6f4454b012",
   "metadata": {},
   "outputs": [],
   "source": []
  }
 ],
 "metadata": {
  "kernelspec": {
   "display_name": "Python 3 (ipykernel)",
   "language": "python",
   "name": "python3"
  },
  "language_info": {
   "codemirror_mode": {
    "name": "ipython",
    "version": 3
   },
   "file_extension": ".py",
   "mimetype": "text/x-python",
   "name": "python",
   "nbconvert_exporter": "python",
   "pygments_lexer": "ipython3",
   "version": "3.10.8"
  }
 },
 "nbformat": 4,
 "nbformat_minor": 5
}
